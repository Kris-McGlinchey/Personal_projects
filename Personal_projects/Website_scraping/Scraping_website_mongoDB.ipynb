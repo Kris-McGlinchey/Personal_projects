{
 "cells": [
  {
   "cell_type": "markdown",
   "metadata": {},
   "source": [
    "# Scraping website to populate MongoDB"
   ]
  },
  {
   "cell_type": "code",
   "execution_count": 1,
   "metadata": {},
   "outputs": [],
   "source": [
    "import requests\n",
    "from pymongo import MongoClient\n",
    "import numpy as np\n",
    "from scrapy import Selector\n",
    "import scrapy\n",
    "from scrapy.crawler import CrawlerProcess\n",
    "\n",
    "from random import randint\n",
    "from time import sleep"
   ]
  },
  {
   "cell_type": "code",
   "execution_count": 2,
   "metadata": {},
   "outputs": [],
   "source": [
    "client = MongoClient()\n",
    "db = client['webScrape']"
   ]
  },
  {
   "cell_type": "code",
   "execution_count": 3,
   "metadata": {},
   "outputs": [
    {
     "data": {
      "text/plain": [
       "<pymongo.results.DeleteResult at 0x20ff74a0dc8>"
      ]
     },
     "execution_count": 3,
     "metadata": {},
     "output_type": "execute_result"
    }
   ],
   "source": [
    "db['slashdot'].delete_many({})\n",
    "db['reuters'].delete_many({})"
   ]
  },
  {
   "cell_type": "markdown",
   "metadata": {},
   "source": [
    "# Slashdot"
   ]
  },
  {
   "cell_type": "code",
   "execution_count": 4,
   "metadata": {},
   "outputs": [],
   "source": [
    "response_ = requests.get('https://slashdot.org/').content\n",
    "sel = Selector(text = response_)\n",
    "hyperlinks = []\n",
    "body_text_sd = [r.xpath('string(.)').extract_first()\n",
    "for r in sel.xpath('//article[@data-fhtype = \"story\"]//div[@class = \"body\"]/div/i')]\n",
    "title_sd = sel.xpath('//span[@class = \"story-title\"]/a/text()').extract()\n",
    "for idx in np.arange(len(title_sd)):\n",
    "    if not sel.css(f'article[data-fhtype = \"story\"]:nth-of-type({idx + 1}) a[class^=\"story\"]::attr(href)').extract():\n",
    "        hyperlinks.append(['no hyperlink'])\n",
    "    else:\n",
    "        hyperlinks.append(sel.css(f'article[data-fhtype = \"story\"]:nth-of-type({idx + 1}) a[class^=\"story\"]::attr(href)').extract())"
   ]
  },
  {
   "cell_type": "code",
   "execution_count": 5,
   "metadata": {},
   "outputs": [],
   "source": [
    "collection = []\n",
    "for idx in np.arange(len(title_sd)):\n",
    "    dict_sd = {'title': title_sd[idx],\n",
    "               'summary': body_text_sd[idx],\n",
    "               'hyperlink': hyperlinks[idx]}\n",
    "    collection.append(dict_sd)"
   ]
  },
  {
   "cell_type": "code",
   "execution_count": 6,
   "metadata": {},
   "outputs": [
    {
     "data": {
      "text/plain": [
       "<pymongo.results.InsertManyResult at 0x20ff73c9408>"
      ]
     },
     "execution_count": 6,
     "metadata": {},
     "output_type": "execute_result"
    }
   ],
   "source": [
    "db['slashdot'].insert_many(collection)"
   ]
  },
  {
   "cell_type": "code",
   "execution_count": 7,
   "metadata": {},
   "outputs": [
    {
     "data": {
      "text/plain": [
       "{'_id': ObjectId('5fac23910d0f85e18d9eb032'),\n",
       " 'title': \"Disaster 'Prepping' Was Once an American Pastime. Today, It's Mainstream Again.\",\n",
       " 'summary': ' There\\'s a reason \"preppers,\" people who plan for the worst-case scenario, like to talk about the zombie apocalypse. The idea of an army of walking dead swarming the country pervades their thoughts because, says Roman Zrazhevskiy, \"If you prepare as if a zombie apocalypse is going to happen, you have all the bases covered.\" That means: an escape route, medical supplies, a few weeks\\' worth of food. Zrazhevskiy has been thinking about this for decades. He was born in Russia a few months after the nuclear meltdown at Chernobyl. At the dinner table, his family often talked about the disaster and what went wrong. Then, after they relocated to New York, Zrazhevskiy stood on the waterfront outside his Brooklyn high school on September 11, 2001, and watched the World Trade Center towers collapse. Even then, he had a small go-bag prepared with disaster supplies.  \\n\\nNow, he\\'s the guy who has a kit and a checklist for every occasion, including taking his toddler to the beach. Zrazhevskiy lives in Texas and runs survival outfitters Ready to Go Survival and Mira Safety. In 2019, with protests in Hong Kong, wildfires in Australia, and the threat of war with Iran, business boomed. But when the CDC announced the U.S.\\'s first confirmed coronavirus case last January, business reached \"a whole new level,\" says Zrazhevskiy. His companies spent the next couple of months scrambling to fill backorders. The flood of new customers had so many questions that he hired seven full-time staffers just to answer emails. \"It\\'s kind of a customer service nightmare,\" he says. \"People are really flipping out.\" In a public imagination fueled by reality TV, preppers are lonely survivalists, members of fanatical religious groups, or even wealthy Silicon Valley moguls who buy luxury underground bunkers and keep a getaway helicopter fueled. But in reality preppers range from New Yorkers with extra boxes of canned goods squeezed in their studio apartments to wilderness experts with fully stocked bunkers.',\n",
       " 'hyperlink': ['https://www.nationalgeographic.com/history/2020/11/disaster-prepping-was-once-an-american-pastime-today-its-mainstream-again/']}"
      ]
     },
     "execution_count": 7,
     "metadata": {},
     "output_type": "execute_result"
    }
   ],
   "source": [
    "db['slashdot'].find_one()"
   ]
  },
  {
   "cell_type": "markdown",
   "metadata": {},
   "source": [
    "# Reuters"
   ]
  },
  {
   "cell_type": "code",
   "execution_count": 8,
   "metadata": {},
   "outputs": [],
   "source": [
    "dc_dict = []"
   ]
  },
  {
   "cell_type": "code",
   "execution_count": 9,
   "metadata": {},
   "outputs": [],
   "source": [
    "class reuters_spider(scrapy.Spider):\n",
    "    name = 'reuters'\n",
    "    \n",
    "    def __init__(self, dc_dict):\n",
    "        self.dc_dict = dc_dict\n",
    "    def start_requests(self):\n",
    "        urls = ['https://uk.reuters.com/news/technology/',\n",
    "                'https://uk.reuters.com/news/archive/technologynews?view=page&page=2&pageSize=10']\n",
    "        for url in urls:\n",
    "            sleep(randint(0, 5))\n",
    "            yield scrapy.Request(url = url, callback = self.parse_main_page)\n",
    "            \n",
    "    def parse_main_page(self, response):\n",
    "        hyperlinks_reut = response.css('article.story > div.story-content > a::attr(href)').extract()\n",
    "        self.hyperlinks_reut = ['https://uk.reuters.com' + ele for ele in hyperlinks_reut]\n",
    "\n",
    "        for link in self.hyperlinks_reut:\n",
    "            sleep(randint(0, 5))\n",
    "            yield response.follow(url = link, callback = self.parse_story_page)\n",
    "            \n",
    "    def parse_story_page(self, response):\n",
    "        body_of_text = ''.join(response.css('p[class^=\"Paragraph\"]::text').extract())\n",
    "        titles_reut = response.css('h1[class^=\"Headline\"]::text').extract()\n",
    "        link = response.request.url\n",
    "        author = response.css('a[class*=author]::text').extract()\n",
    "        \n",
    "        document = {'title': titles_reut,\n",
    "                    'author': author,\n",
    "                    'hyperlink': link,\n",
    "                    'story_text': body_of_text}\n",
    "        dc_dict.append(document)"
   ]
  },
  {
   "cell_type": "code",
   "execution_count": 10,
   "metadata": {},
   "outputs": [
    {
     "name": "stderr",
     "output_type": "stream",
     "text": [
      "2020-11-11 17:46:57 [scrapy.utils.log] INFO: Scrapy 2.3.0 started (bot: scrapybot)\n",
      "2020-11-11 17:46:57 [scrapy.utils.log] INFO: Versions: lxml 4.5.0.0, libxml2 2.9.9, cssselect 1.1.0, parsel 1.6.0, w3lib 1.22.0, Twisted 20.3.0, Python 3.7.6 (default, Jan  8 2020, 20:23:39) [MSC v.1916 64 bit (AMD64)], pyOpenSSL 19.1.0 (OpenSSL 1.1.1d  10 Sep 2019), cryptography 2.8, Platform Windows-10-10.0.19041-SP0\n",
      "2020-11-11 17:46:57 [scrapy.utils.log] DEBUG: Using reactor: twisted.internet.selectreactor.SelectReactor\n"
     ]
    }
   ],
   "source": [
    "process = CrawlerProcess()"
   ]
  },
  {
   "cell_type": "code",
   "execution_count": 11,
   "metadata": {},
   "outputs": [
    {
     "name": "stderr",
     "output_type": "stream",
     "text": [
      "2020-11-11 17:46:57 [scrapy.crawler] INFO: Overridden settings:\n",
      "{}\n",
      "2020-11-11 17:46:57 [scrapy.extensions.telnet] INFO: Telnet Password: e25cd827c4cb2ea5\n",
      "2020-11-11 17:46:57 [scrapy.middleware] INFO: Enabled extensions:\n",
      "['scrapy.extensions.corestats.CoreStats',\n",
      " 'scrapy.extensions.telnet.TelnetConsole',\n",
      " 'scrapy.extensions.logstats.LogStats']\n",
      "2020-11-11 17:46:57 [scrapy.middleware] INFO: Enabled downloader middlewares:\n",
      "['scrapy.downloadermiddlewares.httpauth.HttpAuthMiddleware',\n",
      " 'scrapy.downloadermiddlewares.downloadtimeout.DownloadTimeoutMiddleware',\n",
      " 'scrapy.downloadermiddlewares.defaultheaders.DefaultHeadersMiddleware',\n",
      " 'scrapy.downloadermiddlewares.useragent.UserAgentMiddleware',\n",
      " 'scrapy.downloadermiddlewares.retry.RetryMiddleware',\n",
      " 'scrapy.downloadermiddlewares.redirect.MetaRefreshMiddleware',\n",
      " 'scrapy.downloadermiddlewares.httpcompression.HttpCompressionMiddleware',\n",
      " 'scrapy.downloadermiddlewares.redirect.RedirectMiddleware',\n",
      " 'scrapy.downloadermiddlewares.cookies.CookiesMiddleware',\n",
      " 'scrapy.downloadermiddlewares.httpproxy.HttpProxyMiddleware',\n",
      " 'scrapy.downloadermiddlewares.stats.DownloaderStats']\n",
      "2020-11-11 17:46:57 [scrapy.middleware] INFO: Enabled spider middlewares:\n",
      "['scrapy.spidermiddlewares.httperror.HttpErrorMiddleware',\n",
      " 'scrapy.spidermiddlewares.offsite.OffsiteMiddleware',\n",
      " 'scrapy.spidermiddlewares.referer.RefererMiddleware',\n",
      " 'scrapy.spidermiddlewares.urllength.UrlLengthMiddleware',\n",
      " 'scrapy.spidermiddlewares.depth.DepthMiddleware']\n",
      "2020-11-11 17:46:57 [scrapy.middleware] INFO: Enabled item pipelines:\n",
      "[]\n",
      "2020-11-11 17:46:57 [scrapy.core.engine] INFO: Spider opened\n",
      "2020-11-11 17:46:57 [scrapy.extensions.logstats] INFO: Crawled 0 pages (at 0 pages/min), scraped 0 items (at 0 items/min)\n",
      "2020-11-11 17:46:57 [scrapy.extensions.telnet] INFO: Telnet console listening on 127.0.0.1:6023\n"
     ]
    },
    {
     "data": {
      "text/plain": [
       "<Deferred at 0x20ff76da148>"
      ]
     },
     "execution_count": 11,
     "metadata": {},
     "output_type": "execute_result"
    }
   ],
   "source": [
    "process.crawl(reuters_spider, dc_dict)"
   ]
  },
  {
   "cell_type": "code",
   "execution_count": 12,
   "metadata": {
    "scrolled": false
   },
   "outputs": [
    {
     "name": "stderr",
     "output_type": "stream",
     "text": [
      "2020-11-11 17:46:59 [scrapy.downloadermiddlewares.redirect] DEBUG: Redirecting (301) to <GET http://uk.reuters.com/news/technology> from <GET https://uk.reuters.com/news/technology/>\n",
      "2020-11-11 17:46:59 [scrapy.core.engine] DEBUG: Crawled (200) <GET https://uk.reuters.com/news/archive/technologynews?view=page&page=2&pageSize=10> (referer: None)\n",
      "2020-11-11 17:47:02 [scrapy.downloadermiddlewares.redirect] DEBUG: Redirecting (301) to <GET https://uk.reuters.com/news/technology> from <GET http://uk.reuters.com/news/technology>\n",
      "2020-11-11 17:47:09 [scrapy.core.engine] DEBUG: Crawled (200) <GET https://uk.reuters.com/article/us-autos-electric-bmw/bmw-unveils-electric-suv-to-challenge-tesla-plans-u-s-launch-in-early-2022-idUKKBN27R1T6> (referer: https://uk.reuters.com/news/archive/technologynews?view=page&page=2&pageSize=10)\n",
      "2020-11-11 17:47:09 [scrapy.core.engine] DEBUG: Crawled (200) <GET https://uk.reuters.com/news/technology> (referer: None)\n",
      "2020-11-11 17:47:15 [scrapy.core.engine] DEBUG: Crawled (200) <GET https://uk.reuters.com/article/us-dish-network-qualcomm/dish-enlists-qualcomm-as-partner-to-build-out-5g-network-idUKKBN27R1MO> (referer: https://uk.reuters.com/news/archive/technologynews?view=page&page=2&pageSize=10)\n",
      "2020-11-11 17:47:20 [scrapy.core.engine] DEBUG: Crawled (200) <GET https://uk.reuters.com/article/us-tiktok-ireland/tiktok-to-increase-irish-staff-to-1100-in-rapid-expansion-idUKKBN27R1D7> (referer: https://uk.reuters.com/news/archive/technologynews?view=page&page=2&pageSize=10)\n",
      "2020-11-11 17:47:25 [scrapy.dupefilters] DEBUG: Filtered duplicate request: <GET https://uk.reuters.com/article/us-health-coronavirus-industry-jobs/covid-19-war-games-the-computer-program-that-could-help-save-your-job-idUKKBN27R1LA> - no more duplicates will be shown (see DUPEFILTER_DEBUG to show all duplicates)\n",
      "2020-11-11 17:47:26 [scrapy.core.engine] DEBUG: Crawled (200) <GET https://uk.reuters.com/article/us-netherlands-telecoms/dutch-government-orders-further-anti-spying-measures-for-telecoms-idUKKBN27R0YG> (referer: https://uk.reuters.com/news/archive/technologynews?view=page&page=2&pageSize=10)\n",
      "2020-11-11 17:47:30 [scrapy.core.engine] DEBUG: Crawled (200) <GET https://uk.reuters.com/article/us-health-coronavirus-industry-jobs/covid-19-war-games-the-computer-program-that-could-help-save-your-job-idUKKBN27R1LA> (referer: https://uk.reuters.com/news/archive/technologynews?view=page&page=2&pageSize=10)\n",
      "2020-11-11 17:47:30 [scrapy.core.engine] DEBUG: Crawled (200) <GET https://uk.reuters.com/article/us-usa-biden-tech/more-tech-executives-than-tech-critics-on-bidens-transition-team-idUKKBN27Q3DN> (referer: https://uk.reuters.com/news/archive/technologynews?view=page&page=2&pageSize=10)\n",
      "2020-11-11 17:47:34 [scrapy.core.engine] DEBUG: Crawled (200) <GET https://uk.reuters.com/article/uk-global-markets/wall-street-gains-in-pivot-back-to-tech-crude-extends-its-rally-idUKKBN27R01L> (referer: https://uk.reuters.com/news/archive/technologynews?view=page&page=2&pageSize=10)\n",
      "2020-11-11 17:47:39 [scrapy.core.engine] DEBUG: Crawled (200) <GET https://uk.reuters.com/article/us-apple-epic-games/federal-judge-dismisses-some-claims-by-apple-in-fight-against-epic-games-idUKKBN27R0TD> (referer: https://uk.reuters.com/news/archive/technologynews?view=page&page=2&pageSize=10)\n",
      "2020-11-11 17:47:39 [scrapy.core.engine] DEBUG: Crawled (200) <GET https://uk.reuters.com/article/us-china-bytedance-revenue-exclusive/exclusive-tiktok-owner-bytedance-to-rake-in-27-billion-ad-revenue-by-year-end-sources-idUKKBN27R18M> (referer: https://uk.reuters.com/news/technology)\n",
      "2020-11-11 17:47:39 [scrapy.core.engine] DEBUG: Crawled (200) <GET https://uk.reuters.com/article/uk-usa-election-johnson/uk-u-s-agree-to-stand-up-for-common-values-says-pm-johnson-idUKKBN27R1OW> (referer: https://uk.reuters.com/news/archive/technologynews?view=page&page=2&pageSize=10)\n",
      "2020-11-11 17:47:42 [scrapy.core.engine] DEBUG: Crawled (200) <GET https://uk.reuters.com/article/us-tesla-germany-mercedes/mercedes-benz-berlin-plant-head-to-join-tesla-union-says-idUKKBN27R2HN> (referer: https://uk.reuters.com/news/technology)\n",
      "2020-11-11 17:47:42 [scrapy.core.engine] DEBUG: Crawled (200) <GET https://uk.reuters.com/article/us-aviation-taxis-lilium/air-taxi-startup-liliums-first-u-s-hub-to-be-in-florida-idUKKBN27R25O> (referer: https://uk.reuters.com/news/technology)\n",
      "2020-11-11 17:47:43 [scrapy.core.engine] DEBUG: Crawled (200) <GET https://uk.reuters.com/article/uk-usa-election-georgia-recount/georgia-to-conduct-a-full-recount-of-election-ballots-idUKKBN27R2BJ> (referer: https://uk.reuters.com/news/archive/technologynews?view=page&page=2&pageSize=10)\n",
      "2020-11-11 17:47:43 [scrapy.core.engine] DEBUG: Crawled (200) <GET https://uk.reuters.com/article/us-autos-bmw-mobility/bmw-ceo-says-he-is-weighing-options-for-mobility-jv-with-daimler-idUKKBN27R27H> (referer: https://uk.reuters.com/news/technology)\n",
      "2020-11-11 17:47:43 [scrapy.core.engine] DEBUG: Crawled (200) <GET https://uk.reuters.com/article/us-usa-tiktok/chinas-bytedance-challenges-trumps-tiktok-divestiture-order-idUKKBN27R02L> (referer: https://uk.reuters.com/news/archive/technologynews?view=page&page=2&pageSize=10)\n",
      "2020-11-11 17:47:43 [scrapy.core.engine] DEBUG: Crawled (200) <GET https://uk.reuters.com/article/us-usa-brazil-5g/u-s-aide-warns-brazil-without-evidence-of-huawei-5g-big-brother-surveillance-idUKKBN27R2KH> (referer: https://uk.reuters.com/news/technology)\n",
      "2020-11-11 17:47:45 [scrapy.core.engine] DEBUG: Crawled (200) <GET https://uk.reuters.com/article/us-usa-election-social-media/facebook-extends-ban-on-u-s-political-ads-for-another-month-idUKKBN27R23Y> (referer: https://uk.reuters.com/news/technology)\n",
      "2020-11-11 17:47:47 [scrapy.core.engine] DEBUG: Crawled (200) <GET https://uk.reuters.com/article/us-honda-autonomous-level3/honda-says-will-be-first-to-mass-produce-level-3-autonomous-cars-idUKKBN27R0LV> (referer: https://uk.reuters.com/news/archive/technologynews?view=page&page=2&pageSize=10)\n",
      "2020-11-11 17:47:47 [scrapy.core.engine] DEBUG: Crawled (200) <GET https://uk.reuters.com/article/us-china-bridegwater-invest/bridgewaters-dalio-supports-ant-ipo-suspension-bullish-on-china-idUKKBN27R0IR> (referer: https://uk.reuters.com/news/archive/technologynews?view=page&page=2&pageSize=10)\n",
      "2020-11-11 17:47:47 [scrapy.core.engine] DEBUG: Crawled (200) <GET https://uk.reuters.com/article/us-singles-day-alibaba/alibaba-boasts-over-70-billion-sales-as-first-post-virus-singles-day-nears-end-idUKKBN27Q2HX> (referer: https://uk.reuters.com/news/technology)\n",
      "2020-11-11 17:47:47 [scrapy.core.engine] INFO: Closing spider (finished)\n",
      "2020-11-11 17:47:47 [scrapy.statscollectors] INFO: Dumping Scrapy stats:\n",
      "{'downloader/request_bytes': 8966,\n",
      " 'downloader/request_count': 24,\n",
      " 'downloader/request_method_count/GET': 24,\n",
      " 'downloader/response_bytes': 1274411,\n",
      " 'downloader/response_count': 24,\n",
      " 'downloader/response_status_count/200': 22,\n",
      " 'downloader/response_status_count/301': 2,\n",
      " 'dupefilter/filtered': 3,\n",
      " 'elapsed_time_seconds': 49.683204,\n",
      " 'finish_reason': 'finished',\n",
      " 'finish_time': datetime.datetime(2020, 11, 11, 17, 47, 47, 491332),\n",
      " 'log_count/DEBUG': 25,\n",
      " 'log_count/INFO': 10,\n",
      " 'request_depth_max': 1,\n",
      " 'response_received_count': 22,\n",
      " 'scheduler/dequeued': 24,\n",
      " 'scheduler/dequeued/memory': 24,\n",
      " 'scheduler/enqueued': 24,\n",
      " 'scheduler/enqueued/memory': 24,\n",
      " 'start_time': datetime.datetime(2020, 11, 11, 17, 46, 57, 808128)}\n",
      "2020-11-11 17:47:47 [scrapy.core.engine] INFO: Spider closed (finished)\n"
     ]
    }
   ],
   "source": [
    "process.start()"
   ]
  },
  {
   "cell_type": "code",
   "execution_count": 13,
   "metadata": {},
   "outputs": [
    {
     "data": {
      "text/plain": [
       "<pymongo.results.InsertManyResult at 0x20ff79f76c8>"
      ]
     },
     "execution_count": 13,
     "metadata": {},
     "output_type": "execute_result"
    }
   ],
   "source": [
    "db['reuters'].insert_many(dc_dict)"
   ]
  },
  {
   "cell_type": "code",
   "execution_count": 14,
   "metadata": {},
   "outputs": [
    {
     "data": {
      "text/plain": [
       "{'_id': ObjectId('5fac23c30d0f85e18d9eb041'),\n",
       " 'title': ['BMW unveils electric SUV to challenge Tesla, plans U.S. launch in early 2022'],\n",
       " 'author': ['Joseph White'],\n",
       " 'hyperlink': 'https://uk.reuters.com/article/us-autos-electric-bmw/bmw-unveils-electric-suv-to-challenge-tesla-plans-u-s-launch-in-early-2022-idUKKBN27R1T6',\n",
       " 'story_text': 'BMW said the iX should have a driving range of 300 miles (480 km). That’s less than the estimated driving range of the Tesla Model X Long Range, which is rated at 371 miles in the United States. BMW said drivers would be able to add 75 miles of range in ten minutes at a fast-charging station.BMW said the iX would be comparable in size to the current BMW X5 SUV. The dashboard will be a sweeping, curved screen.The electric iX will enter a fast-growing field of battery-powered SUVs aimed at affluent customers.'}"
      ]
     },
     "execution_count": 14,
     "metadata": {},
     "output_type": "execute_result"
    }
   ],
   "source": [
    "db['reuters'].find_one()"
   ]
  }
 ],
 "metadata": {
  "kernelspec": {
   "display_name": "Python 3",
   "language": "python",
   "name": "python3"
  },
  "language_info": {
   "codemirror_mode": {
    "name": "ipython",
    "version": 3
   },
   "file_extension": ".py",
   "mimetype": "text/x-python",
   "name": "python",
   "nbconvert_exporter": "python",
   "pygments_lexer": "ipython3",
   "version": "3.7.6"
  }
 },
 "nbformat": 4,
 "nbformat_minor": 4
}
